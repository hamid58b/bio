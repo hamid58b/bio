{
 "cells": [
  {
   "cell_type": "code",
   "execution_count": 13,
   "metadata": {},
   "outputs": [
    {
     "name": "stdout",
     "output_type": "stream",
     "text": [
      "\n",
      "      /-aaaaaaaaaf\n",
      "   /-|\n",
      "  |   \\-aaaaaaaaag\n",
      "  |\n",
      "--|      /-aaaaaaaaah\n",
      "  |   /-|\n",
      "  |  |  |   /-aaaaaaaaai\n",
      "  |  |   \\-|\n",
      "   \\-|      \\-aaaaaaaaaj\n",
      "     |\n",
      "     |   /-aaaaaaaaaa\n",
      "      \\-|\n",
      "        |   /-aaaaaaaaab\n",
      "         \\-|\n",
      "           |   /-aaaaaaaaac\n",
      "            \\-|\n",
      "              |   /-aaaaaaaaad\n",
      "               \\-|\n",
      "                  \\-aaaaaaaaae\n"
     ]
    },
    {
     "ename": "TypeError",
     "evalue": "'str' object is not callable",
     "output_type": "error",
     "traceback": [
      "\u001b[0;31m---------------------------------------------------------------------------\u001b[0m",
      "\u001b[0;31mTypeError\u001b[0m                                 Traceback (most recent call last)",
      "\u001b[0;32m<ipython-input-13-a842c6a7a645>\u001b[0m in \u001b[0;36m<module>\u001b[0;34m()\u001b[0m\n\u001b[1;32m     49\u001b[0m \u001b[0;34m\u001b[0m\u001b[0m\n\u001b[1;32m     50\u001b[0m     \u001b[0;31m# TreeWidget seems to fail with simple quotes\u001b[0m\u001b[0;34m\u001b[0m\u001b[0;34m\u001b[0m\u001b[0m\n\u001b[0;32m---> 51\u001b[0;31m     \u001b[0mjson\u001b[0m\u001b[0;34m=\u001b[0m\u001b[0mstr\u001b[0m\u001b[0;34m(\u001b[0m\u001b[0mget_json\u001b[0m\u001b[0;34m(\u001b[0m\u001b[0mt\u001b[0m\u001b[0;34m)\u001b[0m\u001b[0;34m)\u001b[0m\u001b[0;34m\u001b[0m\u001b[0m\n\u001b[0m\u001b[1;32m     52\u001b[0m     \u001b[0mprint\u001b[0m \u001b[0;34m(\u001b[0m\u001b[0mjson\u001b[0m\u001b[0;34m.\u001b[0m\u001b[0mreplace\u001b[0m\u001b[0;34m(\u001b[0m\u001b[0;34m\"'\"\u001b[0m\u001b[0;34m,\u001b[0m \u001b[0;34m'\"'\u001b[0m\u001b[0;34m)\u001b[0m\u001b[0;34m)\u001b[0m\u001b[0;34m\u001b[0m\u001b[0m\n",
      "\u001b[0;32m<ipython-input-13-a842c6a7a645>\u001b[0m in \u001b[0;36mget_json\u001b[0;34m(node)\u001b[0m\n\u001b[1;32m     20\u001b[0m              \u001b[0;34m\"display_label\"\u001b[0m\u001b[0;34m:\u001b[0m \u001b[0mnode\u001b[0m\u001b[0;34m.\u001b[0m\u001b[0mname\u001b[0m\u001b[0;34m,\u001b[0m\u001b[0;34m\u001b[0m\u001b[0m\n\u001b[1;32m     21\u001b[0m              \u001b[0;34m\"duplication\"\u001b[0m\u001b[0;34m:\u001b[0m \u001b[0mdup\u001b[0m\u001b[0;34m,\u001b[0m\u001b[0;34m\u001b[0m\u001b[0m\n\u001b[0;32m---> 22\u001b[0;31m              \u001b[0;34m\"branch_length\"\u001b[0m\u001b[0;34m:\u001b[0m \u001b[0mstr\u001b[0m\u001b[0;34m(\u001b[0m\u001b[0mnode\u001b[0m\u001b[0;34m.\u001b[0m\u001b[0mdist\u001b[0m\u001b[0;34m)\u001b[0m\u001b[0;34m,\u001b[0m\u001b[0;34m\u001b[0m\u001b[0m\n\u001b[0m\u001b[1;32m     23\u001b[0m              \u001b[0;34m\"common_name\"\u001b[0m\u001b[0;34m:\u001b[0m \u001b[0mnode\u001b[0m\u001b[0;34m.\u001b[0m\u001b[0mname\u001b[0m\u001b[0;34m,\u001b[0m\u001b[0;34m\u001b[0m\u001b[0m\n\u001b[1;32m     24\u001b[0m              \u001b[0;34m\"seq_length\"\u001b[0m\u001b[0;34m:\u001b[0m \u001b[0;36m0\u001b[0m\u001b[0;34m,\u001b[0m\u001b[0;34m\u001b[0m\u001b[0m\n",
      "\u001b[0;31mTypeError\u001b[0m: 'str' object is not callable"
     ]
    }
   ],
   "source": [
    "#!/usr/bin/python\n",
    "import sys\n",
    "from ete3 import Tree\n",
    "import random\n",
    "\n",
    "\n",
    "def get_json(node):\n",
    "    # Read ETE tag for duplication or speciation events\n",
    "    if not hasattr(node, 'evoltype'):\n",
    "        dup = random.sample(['N','Y'], 1)[0]\n",
    "    elif node.evoltype == \"S\":\n",
    "        dup = \"N\"\n",
    "    elif node.evoltype == \"D\":\n",
    "        dup = \"Y\"\n",
    "\n",
    "    node.name = node.name.replace(\"'\", '')\n",
    "        \n",
    "    json = { \"name\": node.name, \n",
    "             \"display_label\": node.name,\n",
    "             \"duplication\": dup,\n",
    "             \"branch_length\": str(node.dist),\n",
    "             \"common_name\": node.name,\n",
    "             \"seq_length\": 0,\n",
    "             \"type\": \"node\" if node.children else \"leaf\",\n",
    "             \"uniprot_name\": \"Unknown\",\n",
    "             }\n",
    "    if node.children:\n",
    "        json[\"children\"] = []\n",
    "        for ch in node.children:\n",
    "            json[\"children\"].append(get_json(ch))\n",
    "    return json\n",
    "\n",
    "\n",
    "if __name__ == '__main__':\n",
    "#    if len(sys.argv) > 1:\n",
    "#        t = Tree(sys.argv[1])\n",
    "#        print (t)\n",
    "#\n",
    "#    else:\n",
    "#        # create a random example tree\n",
    "#        t = Tree()\n",
    "#\n",
    "#        t.populate(100, random_branches=True)\n",
    "#     \n",
    "    t=Tree()\n",
    "    t.populate(10, random_branches=True)\n",
    "    print(t)\n",
    "\n",
    "    # TreeWidget seems to fail with simple quotes\n",
    "    json=get_json(t)\n",
    "    print (json.replace(\"'\", '\"'))"
   ]
  },
  {
   "cell_type": "code",
   "execution_count": null,
   "metadata": {},
   "outputs": [],
   "source": [
    "\n",
    "str = 'this is string example....wow!!! this is really string'\n",
    "print (str.replace('is', 'was'))\n"
   ]
  },
  {
   "cell_type": "code",
   "execution_count": null,
   "metadata": {},
   "outputs": [],
   "source": [
    "oldstring = 'I like Guru99' \n",
    "newstring = oldstring.replace('LIKE', 'love')\n",
    "print(newstring)"
   ]
  },
  {
   "cell_type": "code",
   "execution_count": null,
   "metadata": {
    "collapsed": true
   },
   "outputs": [],
   "source": []
  }
 ],
 "metadata": {
  "kernelspec": {
   "display_name": "Python 3",
   "language": "python",
   "name": "python3"
  },
  "language_info": {
   "codemirror_mode": {
    "name": "ipython",
    "version": 3
   },
   "file_extension": ".py",
   "mimetype": "text/x-python",
   "name": "python",
   "nbconvert_exporter": "python",
   "pygments_lexer": "ipython3",
   "version": "3.6.1"
  }
 },
 "nbformat": 4,
 "nbformat_minor": 2
}
