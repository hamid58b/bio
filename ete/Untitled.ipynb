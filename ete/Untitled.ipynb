{
 "cells": [
  {
   "cell_type": "code",
   "execution_count": null,
   "metadata": {},
   "outputs": [],
   "source": [
    "from ete3 import PhyloTree, TreeStyle\n",
    "\n",
    "alg = \"\"\"\n",
    " >Dme_001\n",
    " MAEIPDETIQQFMALT---HNIAVQYLSEFGDLNEAL--YYASQTDDIKDRREEAH\n",
    " >Dme_002\n",
    " MAEIPDATIQQFMALTNVSHNIAVQY--EFGDLNEALNSYYAYQTDDQKDRREEAH\n",
    " >Cfa_001\n",
    " MAEIPDATIQ---ALTNVSHNIAVQYLSEFGDLNEALNSYYASQTDDQPDRREEAH\n",
    " >Mms_001\n",
    " MAEAPDETIQQFMALTNVSHNIAVQYLSEFGDLNEAL--------------REEAH\n",
    " >Hsa_001\n",
    " MAEIPDETIQQFMALT---HNIAVQYLSEFGDLNEALNSYYASQTDDIKDRREEAH\n",
    " >Ptr_002\n",
    " MAEIPDATIQ-FMALTNVSHNIAVQY--EFGDLNEALNSY--YQTDDQKDRREEAH\n",
    " >Mmu_002\n",
    " MAEIPDATIQ---ALTNVSHNIAVQYLSEFGDLNEALNSYYASQTDDQPDRREEAH\n",
    " >Hsa_002\n",
    " MAEAPDETIQQFM-LTNVSHNIAVQYLSEFGDLNEAL--------------REEAH\n",
    " >Mmu_001\n",
    " MAEIPDETIQQFMALT---HNIAVQYLSEFGDLNEALNSYYASQTDDIKDRREEAH\n",
    " >Ptr_001\n",
    " MAEIPDATIQ-FMALTNVSHNIAVQY--EFGDLNEALNSY--YQTDDQKDRREEAH\n",
    " >Mmu_001\n",
    " MAEIPDATIQ---ALTNVSHNIAVQYLSEFGDLNEALNSYYASQTDDQPDRREEAH\n",
    "\"\"\"\n",
    "\n",
    "def get_example_tree():\n",
    "\n",
    "    # Performs a tree reconciliation analysis\n",
    "    gene_tree_nw = '((Dme_001,Dme_002),(((Cfa_001,Mms_001),((Hsa_001,Ptr_001),Mmu_001)),(Ptr_002,(Hsa_002,Mmu_002))));'\n",
    "    species_tree_nw = \"((((Hsa, Ptr), Mmu), (Mms, Cfa)), Dme);\"\n",
    "    genetree = PhyloTree(gene_tree_nw)\n",
    "    sptree = PhyloTree(species_tree_nw)\n",
    "    recon_tree, events = genetree.reconcile(sptree)\n",
    "    recon_tree.link_to_alignment(alg)\n",
    "    return recon_tree, TreeStyle()\n",
    "\n",
    "if __name__ == \"__main__\":\n",
    "    # Visualize the reconciled tree\n",
    "    t, ts = get_example_tree()\n",
    "    #t.render(\"%%inline\")\n",
    "    t.show(tree_style=ts)\n",
    "    print (t)\n",
    "    #t.render(\"phylotree.png\", w=750)\n"
   ]
  },
  {
   "cell_type": "code",
   "execution_count": null,
   "metadata": {
    "collapsed": true
   },
   "outputs": [],
   "source": []
  }
 ],
 "metadata": {
  "anaconda-cloud": {},
  "kernelspec": {
   "display_name": "Python [default]",
   "language": "python",
   "name": "python2"
  },
  "language_info": {
   "codemirror_mode": {
    "name": "ipython",
    "version": 2
   },
   "file_extension": ".py",
   "mimetype": "text/x-python",
   "name": "python",
   "nbconvert_exporter": "python",
   "pygments_lexer": "ipython2",
   "version": "2.7.13"
  }
 },
 "nbformat": 4,
 "nbformat_minor": 2
}
