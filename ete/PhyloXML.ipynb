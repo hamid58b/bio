{
 "cells": [
  {
   "cell_type": "code",
   "execution_count": 5,
   "metadata": {},
   "outputs": [
    {
     "data": {
      "text/plain": [
       "[u'Tetrapisispora blattae CBS 6284']"
      ]
     },
     "execution_count": 5,
     "metadata": {},
     "output_type": "execute_result"
    }
   ],
   "source": [
    "from ete3 import NCBITaxa, Tree, TreeStyle\n",
    "ncbi =NCBITaxa()\n",
    "\n",
    "def get_name(tax_id):\n",
    "    ncbi =NCBITaxa()\n",
    "    return (ncbi.translate_to_names([tax_id]))\n",
    "get_name(1071380)        "
   ]
  },
  {
   "cell_type": "code",
   "execution_count": 6,
   "metadata": {},
   "outputs": [
    {
     "name": "stdout",
     "output_type": "stream",
     "text": [
      "5579\n",
      "1043004\n",
      "1043005\n"
     ]
    }
   ],
   "source": [
    "import xml.dom.minidom as minidom\n",
    " \n",
    "def getTitles(xml):   \n",
    "    doc = minidom.parse(xml)\n",
    "    node = doc.documentElement\n",
    "    taxonomies = doc.getElementsByTagName(\"taxonomy\")\n",
    " \n",
    "    for taxonomy in taxonomies:\n",
    "        sci_name = taxonomy.getElementsByTagName(\"scientific_name\")[0]\n",
    "        nodes = sci_name.childNodes\n",
    "        for node in nodes:\n",
    "            if node.nodeType == node.TEXT_NODE:\n",
    "                print node.data\n",
    " \n",
    "if __name__ == \"__main__\":\n",
    "    document = 'NCBIPhylo.xml'\n",
    "    getTitles(document)\n"
   ]
  },
  {
   "cell_type": "markdown",
   "metadata": {},
   "source": [
    "# Get node Stats"
   ]
  },
  {
   "cell_type": "code",
   "execution_count": 7,
   "metadata": {},
   "outputs": [
    {
     "data": {
      "text/plain": [
       "(105766.0,\n",
       " 105766.0,\n",
       " 15655.0,\n",
       " 14974.0,\n",
       " \"[u'Acanthamoeba castellanii str. Neff']\")"
      ]
     },
     "execution_count": 7,
     "metadata": {},
     "output_type": "execute_result"
    }
   ],
   "source": [
    "import pandas as pd\n",
    "\n",
    "df=pd.read_csv(\"stats.csv\", names=['taxid','CDS','CDS_Mean','exon','exon_Mean','gene','gene_Mean','mRNA','mRNA_Mean'])\n",
    "taxid_list=df['taxid']\n",
    "\n",
    "def get_leaves_taxid(nodeset):\n",
    "    ncbi =NCBITaxa()\n",
    "    df=pd.read_csv(\"stats.csv\", names=['taxid','CDS','CDS_Mean','exon','exon_Mean','gene','gene_Mean','mRNA','mRNA_Mean'])\n",
    "    taxid_list=df['taxid']\n",
    "    gff_set=set()\n",
    "    \n",
    "    for nodeid in nodeset:\n",
    "        for taxid in taxid_list:\n",
    "            if nodeid in ncbi.get_lineage(taxid):\n",
    "                gff_set.add(taxid)\n",
    "    return gff_set\n",
    "\n",
    "def get_node_stats(tax_id): \n",
    "    \n",
    "    node_Name= ncbi.translate_to_names([int(tax_id)])\n",
    "    info=df.loc[df['taxid'] == int(tax_id)].values.tolist()\n",
    "    row=info[0]\n",
    "    CDS=row[1]\n",
    "    exon=row[3]\n",
    "    gene=row[5]\n",
    "    mRNA=row[7]\n",
    "    tax2name= str(ncbi.translate_to_names([int(tax_id)]))\n",
    "    return CDS,exon, gene, mRNA, tax2name\n",
    "\n",
    "def get_node_stats2(tax_id):\n",
    "    taxid_list=get_leaves_taxid(set([int(tax_id)]))\n",
    "    avg_CDS= df[df['taxid'].isin(taxid_list)]['CDS'].mean()\n",
    "    avg_exon= df[df['taxid'].isin(taxid_list)]['exon'].mean()\n",
    "    avg_gene= df[df['taxid'].isin(taxid_list)]['gene'].mean()\n",
    "    avg_mRNA= df[df['taxid'].isin(taxid_list)]['mRNA'].mean()\n",
    "    tax2name= str(ncbi.translate_to_names([int(tax_id)]))\n",
    "    \n",
    "    return avg_CDS,avg_exon, avg_gene, avg_mRNA, tax2name\n",
    "\n",
    "\n",
    "        \n",
    "get_node_stats(1257118)\n",
    "get_node_stats2(1257118)"
   ]
  },
  {
   "cell_type": "markdown",
   "metadata": {},
   "source": [
    "# Annotate clade with new property"
   ]
  },
  {
   "cell_type": "code",
   "execution_count": 2,
   "metadata": {},
   "outputs": [
    {
     "ename": "NameError",
     "evalue": "global name 'get_node_stats2' is not defined",
     "output_type": "error",
     "traceback": [
      "\u001b[0;31m---------------------------------------------------------------------------\u001b[0m",
      "\u001b[0;31mNameError\u001b[0m                                 Traceback (most recent call last)",
      "\u001b[0;32m<ipython-input-2-345c28282927>\u001b[0m in \u001b[0;36m<module>\u001b[0;34m()\u001b[0m\n\u001b[1;32m     66\u001b[0m \u001b[0;32mif\u001b[0m \u001b[0m__name__\u001b[0m \u001b[0;34m==\u001b[0m \u001b[0;34m\"__main__\"\u001b[0m\u001b[0;34m:\u001b[0m\u001b[0;34m\u001b[0m\u001b[0m\n\u001b[1;32m     67\u001b[0m     \u001b[0mdocument\u001b[0m \u001b[0;34m=\u001b[0m \u001b[0;34m'tree.xml'\u001b[0m\u001b[0;34m\u001b[0m\u001b[0m\n\u001b[0;32m---> 68\u001b[0;31m     \u001b[0mgetTitles\u001b[0m\u001b[0;34m(\u001b[0m\u001b[0mdocument\u001b[0m\u001b[0;34m)\u001b[0m\u001b[0;34m\u001b[0m\u001b[0m\n\u001b[0m",
      "\u001b[0;32m<ipython-input-2-345c28282927>\u001b[0m in \u001b[0;36mgetTitles\u001b[0;34m(xml)\u001b[0m\n\u001b[1;32m     18\u001b[0m \u001b[0;34m\u001b[0m\u001b[0m\n\u001b[1;32m     19\u001b[0m         \u001b[0;31m# <property ref=\"avg_CDS\" datatype=\"xsd:string\" applies_to=\"node\">avg_CDS</property>\u001b[0m\u001b[0;34m\u001b[0m\u001b[0;34m\u001b[0m\u001b[0m\n\u001b[0;32m---> 20\u001b[0;31m         \u001b[0mavg_CDS\u001b[0m\u001b[0;34m,\u001b[0m\u001b[0mavg_exon\u001b[0m\u001b[0;34m,\u001b[0m \u001b[0mavg_gene\u001b[0m\u001b[0;34m,\u001b[0m \u001b[0mavg_mRNA\u001b[0m\u001b[0;34m,\u001b[0m \u001b[0mtax2name\u001b[0m\u001b[0;34m=\u001b[0m \u001b[0mget_node_stats2\u001b[0m\u001b[0;34m(\u001b[0m\u001b[0mtaxid\u001b[0m\u001b[0;34m)\u001b[0m\u001b[0;34m\u001b[0m\u001b[0m\n\u001b[0m\u001b[1;32m     21\u001b[0m \u001b[0;34m\u001b[0m\u001b[0m\n\u001b[1;32m     22\u001b[0m         \u001b[0mx\u001b[0m \u001b[0;34m=\u001b[0m \u001b[0mdoc\u001b[0m\u001b[0;34m.\u001b[0m\u001b[0mcreateElement\u001b[0m\u001b[0;34m(\u001b[0m\u001b[0;34m\"name\"\u001b[0m\u001b[0;34m)\u001b[0m\u001b[0;34m\u001b[0m\u001b[0m\n",
      "\u001b[0;31mNameError\u001b[0m: global name 'get_node_stats2' is not defined"
     ]
    }
   ],
   "source": [
    "import xml.dom.minidom as minidom\n",
    " \n",
    "def getTitles(xml):   \n",
    "    doc = minidom.parse(xml)\n",
    "    node = doc.documentElement\n",
    "    clades = doc.getElementsByTagName(\"clade\")\n",
    "    \n",
    "    taxonomy_list=[]\n",
    "    for clade in clades:\n",
    "        taxid=\"\"\n",
    "        taxonomy = clade.getElementsByTagName(\"taxonomy\")[0]\n",
    "        taxonomy_list.append(taxonomy)\n",
    "        sci_name = taxonomy.getElementsByTagName(\"scientific_name\")[0]\n",
    "        nodes = sci_name.childNodes\n",
    "        for node in nodes:\n",
    "            if node.nodeType == node.TEXT_NODE:\n",
    "                taxid= node.data\n",
    "\n",
    "        # <property ref=\"avg_CDS\" datatype=\"xsd:string\" applies_to=\"node\">avg_CDS</property>        \n",
    "        avg_CDS,avg_exon, avg_gene, avg_mRNA, tax2name= get_node_stats2(taxid)\n",
    " \n",
    "        x = doc.createElement(\"name\")  \n",
    "        txt = doc.createTextNode(tax2name)  \n",
    "        x.appendChild(txt)  \n",
    "        clade.appendChild(x)  \n",
    "\n",
    "        x = doc.createElement(\"property\")  \n",
    "        x.setAttribute(\"ref\", \"avg_CDS\")\n",
    "        x.setAttribute(\"datatype\", \"xsd:string\")\n",
    "        x.setAttribute(\"applies_to\", \"node\")\n",
    "        txt = doc.createTextNode(str(avg_CDS))  \n",
    "        x.appendChild(txt)  \n",
    "        clade.appendChild(x)  \n",
    "        \n",
    "        x = doc.createElement(\"property\")  \n",
    "        x.setAttribute(\"ref\", \"avg_exon\")\n",
    "        x.setAttribute(\"datatype\", \"xsd:string\")\n",
    "        x.setAttribute(\"applies_to\", \"node\")\n",
    "        txt = doc.createTextNode(str(avg_exon))  \n",
    "        x.appendChild(txt)  \n",
    "        clade.appendChild(x)  \n",
    "    \n",
    "        x = doc.createElement(\"property\")  \n",
    "        x.setAttribute(\"ref\", \"avg_mRNA\")\n",
    "        x.setAttribute(\"datatype\", \"xsd:string\")\n",
    "        x.setAttribute(\"applies_to\", \"node\")\n",
    "        txt = doc.createTextNode(str(avg_mRNA))  \n",
    "        x.appendChild(txt)  \n",
    "        clade.appendChild(x)  \n",
    "        \n",
    "        #<property ref=\"See also1\" applies_to=\"clade\" datatype=\"xsd:anyURI\"> url </property>\n",
    "        ncbi_url=\"https://www.ncbi.nlm.nih.gov/Taxonomy/Browser/wwwtax.cgi?id=\" + str(taxid)\n",
    "        x = doc.createElement(\"property\")  \n",
    "        x.setAttribute(\"ref\", \"see ncbi:\")\n",
    "        x.setAttribute(\"datatype\", \"xsd:anyURI\")\n",
    "        x.setAttribute(\"applies_to\", \"node\")\n",
    "        txt = doc.createTextNode(ncbi_url)  \n",
    "        x.appendChild(txt)  \n",
    "        clade.appendChild(x)\n",
    "        \n",
    "        \n",
    "    print(doc.toxml())\n",
    "    with open (\"NCBIPhylo_minidom.xml\", 'w') as f:\n",
    "        doc.writexml(f)\n",
    "\n",
    "if __name__ == \"__main__\":\n",
    "    document = 'tree.xml'\n",
    "    getTitles(document)"
   ]
  },
  {
   "cell_type": "code",
   "execution_count": null,
   "metadata": {
    "collapsed": true
   },
   "outputs": [],
   "source": []
  }
 ],
 "metadata": {
  "anaconda-cloud": {},
  "kernelspec": {
   "display_name": "Python [default]",
   "language": "python",
   "name": "python2"
  },
  "language_info": {
   "codemirror_mode": {
    "name": "ipython",
    "version": 2
   },
   "file_extension": ".py",
   "mimetype": "text/x-python",
   "name": "python",
   "nbconvert_exporter": "python",
   "pygments_lexer": "ipython2",
   "version": "2.7.13"
  }
 },
 "nbformat": 4,
 "nbformat_minor": 2
}
